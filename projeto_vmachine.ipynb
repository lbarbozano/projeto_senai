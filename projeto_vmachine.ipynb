{
  "nbformat": 4,
  "nbformat_minor": 0,
  "metadata": {
    "colab": {
      "name": "projeto_vmachine.ipynb",
      "provenance": [],
      "collapsed_sections": [],
      "include_colab_link": true
    },
    "kernelspec": {
      "name": "python3",
      "display_name": "Python 3"
    }
  },
  "cells": [
    {
      "cell_type": "markdown",
      "metadata": {
        "id": "view-in-github",
        "colab_type": "text"
      },
      "source": [
        "<a href=\"https://colab.research.google.com/github/lbarbozano/projeto_senai/blob/main/projeto_vmachine.ipynb\" target=\"_parent\"><img src=\"https://colab.research.google.com/assets/colab-badge.svg\" alt=\"Open In Colab\"/></a>"
      ]
    },
    {
      "cell_type": "code",
      "metadata": {
        "id": "b153M0SP3rnE",
        "outputId": "d4dc929c-b05d-4fb1-94c1-38532737bb0a",
        "colab": {
          "base_uri": "https://localhost:8080/",
          "height": 122
        }
      },
      "source": [
        "#instalar a biblioteca pymaysql\n",
        "import numpy as np\n",
        "!pip install pymysql\n",
        "import pymysql.cursors"
      ],
      "execution_count": null,
      "outputs": [
        {
          "output_type": "stream",
          "text": [
            "Collecting pymysql\n",
            "\u001b[?25l  Downloading https://files.pythonhosted.org/packages/1a/ea/dd9c81e2d85efd03cfbf808736dd055bd9ea1a78aea9968888b1055c3263/PyMySQL-0.10.1-py2.py3-none-any.whl (47kB)\n",
            "\r\u001b[K     |██████▉                         | 10kB 16.4MB/s eta 0:00:01\r\u001b[K     |█████████████▊                  | 20kB 6.4MB/s eta 0:00:01\r\u001b[K     |████████████████████▌           | 30kB 6.7MB/s eta 0:00:01\r\u001b[K     |███████████████████████████▍    | 40kB 8.4MB/s eta 0:00:01\r\u001b[K     |████████████████████████████████| 51kB 3.9MB/s \n",
            "\u001b[?25hInstalling collected packages: pymysql\n",
            "Successfully installed pymysql-0.10.1\n"
          ],
          "name": "stdout"
        }
      ]
    },
    {
      "cell_type": "code",
      "metadata": {
        "id": "cTowQk9I6at5"
      },
      "source": [
        "#acessando o banco de dados para extrair os dados\n",
        "\n",
        "cbd = pymysql.connect(host='db4free.net', #banco de dados utilizado\n",
        "                      user='vmachine', #login de acesso ao banco de dados\n",
        "                      password='vmachine', #senha de acesso ao banco de dados\n",
        "                      db='dbmachine', #banco de dados criado\n",
        "                      charset='utf8mb4',\n",
        "                      cursorclass=pymysql.cursors.DictCursor)\n",
        "\n",
        "cursor = cbd.cursor()"
      ],
      "execution_count": null,
      "outputs": []
    },
    {
      "cell_type": "code",
      "metadata": {
        "id": "EPFmNgvi89Kx",
        "outputId": "333bc576-4af3-442d-ca06-1d0a82e164fd",
        "colab": {
          "base_uri": "https://localhost:8080/",
          "height": 34
        }
      },
      "source": [
        "#acessando a tabela: consumo\n",
        "comando_sql = \"SELECT *FROM consumo\" #tabela gerada\n",
        "cursor.execute(comando_sql)\n",
        "\n",
        "#reotrna todos os dados da tabela\n",
        "dados = cursor.fetchall()\n",
        "cbd.close()\n",
        "print(type(dados))"
      ],
      "execution_count": null,
      "outputs": [
        {
          "output_type": "stream",
          "text": [
            "<class 'list'>\n"
          ],
          "name": "stdout"
        }
      ]
    },
    {
      "cell_type": "code",
      "metadata": {
        "id": "XBL7CX_x-CMQ",
        "outputId": "11389a21-d7e3-4500-9dff-cf06477c7cc9",
        "colab": {
          "base_uri": "https://localhost:8080/",
          "height": 54
        }
      },
      "source": [
        "print(dados)"
      ],
      "execution_count": null,
      "outputs": [
        {
          "output_type": "stream",
          "text": [
            "[{'ID': 1, 'TAG': ' AB DD 75 22', 'Produto': 'Queijo', 'Horario': datetime.datetime(2020, 9, 19, 15, 4, 34)}, {'ID': 2, 'TAG': ' 97 11 33 40', 'Produto': 'Tradicional', 'Horario': datetime.datetime(2020, 9, 19, 15, 4, 58)}, {'ID': 3, 'TAG': ' 97 11 33 40', 'Produto': 'Queijo', 'Horario': datetime.datetime(2020, 9, 19, 15, 5, 45)}, {'ID': 4, 'TAG': ' AB DD 75 22', 'Produto': 'Pizza', 'Horario': datetime.datetime(2020, 9, 19, 15, 6, 12)}, {'ID': 5, 'TAG': ' 97 11 33 40', 'Produto': 'Tradicional', 'Horario': datetime.datetime(2020, 9, 19, 15, 6, 51)}, {'ID': 6, 'TAG': ' 97 11 33 40', 'Produto': 'Queijo', 'Horario': datetime.datetime(2020, 9, 19, 15, 7, 17)}, {'ID': 7, 'TAG': ' AB DD 75 22', 'Produto': 'Pizza', 'Horario': datetime.datetime(2020, 9, 19, 15, 9, 37)}, {'ID': 8, 'TAG': ' 97 11 33 40', 'Produto': 'Tradicional', 'Horario': datetime.datetime(2020, 9, 19, 15, 10, 16)}, {'ID': 9, 'TAG': ' 97 11 33 40', 'Produto': 'Tradicional', 'Horario': datetime.datetime(2020, 9, 20, 12, 27, 44)}, {'ID': 10, 'TAG': ' AB DD 75 22', 'Produto': 'Pizza', 'Horario': datetime.datetime(2020, 9, 20, 12, 28, 9)}, {'ID': 11, 'TAG': ' AB DD 75 22', 'Produto': 'Tradicional', 'Horario': datetime.datetime(2020, 9, 20, 12, 28, 39)}, {'ID': 12, 'TAG': ' AB DD 75 22', 'Produto': 'Queijo', 'Horario': datetime.datetime(2020, 9, 20, 12, 29, 12)}, {'ID': 13, 'TAG': ' 97 11 33 40', 'Produto': 'Queijo', 'Horario': datetime.datetime(2020, 9, 20, 12, 30, 21)}, {'ID': 14, 'TAG': ' AB DD 75 22', 'Produto': 'Queijo', 'Horario': datetime.datetime(2020, 9, 20, 12, 31, 2)}, {'ID': 15, 'TAG': ' 97 11 33 40', 'Produto': 'Queijo', 'Horario': datetime.datetime(2020, 9, 20, 13, 1, 16)}, {'ID': 16, 'TAG': ' AB DD 75 22', 'Produto': 'Pizza', 'Horario': datetime.datetime(2020, 9, 20, 13, 1, 33)}, {'ID': 17, 'TAG': ' AB DD 75 22', 'Produto': 'Tradicional', 'Horario': datetime.datetime(2020, 9, 20, 13, 1, 46)}, {'ID': 18, 'TAG': ' 97 11 33 40', 'Produto': 'Queijo', 'Horario': datetime.datetime(2020, 9, 20, 13, 2, 1)}, {'ID': 19, 'TAG': ' 97 11 33 40', 'Produto': 'Tradicional', 'Horario': datetime.datetime(2020, 9, 20, 13, 2, 19)}, {'ID': 20, 'TAG': ' 97 11 33 40', 'Produto': 'Queijo', 'Horario': datetime.datetime(2020, 9, 20, 13, 2, 39)}, {'ID': 21, 'TAG': ' AB DD 75 22', 'Produto': 'Queijo', 'Horario': datetime.datetime(2020, 9, 20, 13, 42, 52)}, {'ID': 22, 'TAG': ' 97 11 33 40', 'Produto': 'Pizza', 'Horario': datetime.datetime(2020, 9, 20, 13, 43, 42)}, {'ID': 23, 'TAG': ' 97 11 33 40', 'Produto': 'Queijo', 'Horario': datetime.datetime(2020, 9, 20, 13, 44, 23)}, {'ID': 24, 'TAG': ' AB DD 75 22', 'Produto': 'Tradicional', 'Horario': datetime.datetime(2020, 9, 20, 13, 46, 59)}, {'ID': 25, 'TAG': ' 97 11 33 40', 'Produto': 'Queijo', 'Horario': datetime.datetime(2020, 9, 20, 13, 47, 13)}, {'ID': 26, 'TAG': ' AB DD 75 22', 'Produto': 'Pizza', 'Horario': datetime.datetime(2020, 9, 20, 13, 47, 29)}]\n"
          ],
          "name": "stdout"
        }
      ]
    },
    {
      "cell_type": "code",
      "metadata": {
        "id": "CWdAuAm4Uj7B",
        "outputId": "d9b62241-379b-4db8-a2e4-681527678a0c",
        "colab": {
          "base_uri": "https://localhost:8080/",
          "height": 459
        }
      },
      "source": [
        "for i in dados:\n",
        "  print(i)"
      ],
      "execution_count": null,
      "outputs": [
        {
          "output_type": "stream",
          "text": [
            "{'ID': 1, 'TAG': ' AB DD 75 22', 'Produto': 'Queijo', 'Horario': datetime.datetime(2020, 9, 19, 15, 4, 34)}\n",
            "{'ID': 2, 'TAG': ' 97 11 33 40', 'Produto': 'Tradicional', 'Horario': datetime.datetime(2020, 9, 19, 15, 4, 58)}\n",
            "{'ID': 3, 'TAG': ' 97 11 33 40', 'Produto': 'Queijo', 'Horario': datetime.datetime(2020, 9, 19, 15, 5, 45)}\n",
            "{'ID': 4, 'TAG': ' AB DD 75 22', 'Produto': 'Pizza', 'Horario': datetime.datetime(2020, 9, 19, 15, 6, 12)}\n",
            "{'ID': 5, 'TAG': ' 97 11 33 40', 'Produto': 'Tradicional', 'Horario': datetime.datetime(2020, 9, 19, 15, 6, 51)}\n",
            "{'ID': 6, 'TAG': ' 97 11 33 40', 'Produto': 'Queijo', 'Horario': datetime.datetime(2020, 9, 19, 15, 7, 17)}\n",
            "{'ID': 7, 'TAG': ' AB DD 75 22', 'Produto': 'Pizza', 'Horario': datetime.datetime(2020, 9, 19, 15, 9, 37)}\n",
            "{'ID': 8, 'TAG': ' 97 11 33 40', 'Produto': 'Tradicional', 'Horario': datetime.datetime(2020, 9, 19, 15, 10, 16)}\n",
            "{'ID': 9, 'TAG': ' 97 11 33 40', 'Produto': 'Tradicional', 'Horario': datetime.datetime(2020, 9, 20, 12, 27, 44)}\n",
            "{'ID': 10, 'TAG': ' AB DD 75 22', 'Produto': 'Pizza', 'Horario': datetime.datetime(2020, 9, 20, 12, 28, 9)}\n",
            "{'ID': 11, 'TAG': ' AB DD 75 22', 'Produto': 'Tradicional', 'Horario': datetime.datetime(2020, 9, 20, 12, 28, 39)}\n",
            "{'ID': 12, 'TAG': ' AB DD 75 22', 'Produto': 'Queijo', 'Horario': datetime.datetime(2020, 9, 20, 12, 29, 12)}\n",
            "{'ID': 13, 'TAG': ' 97 11 33 40', 'Produto': 'Queijo', 'Horario': datetime.datetime(2020, 9, 20, 12, 30, 21)}\n",
            "{'ID': 14, 'TAG': ' AB DD 75 22', 'Produto': 'Queijo', 'Horario': datetime.datetime(2020, 9, 20, 12, 31, 2)}\n",
            "{'ID': 15, 'TAG': ' 97 11 33 40', 'Produto': 'Queijo', 'Horario': datetime.datetime(2020, 9, 20, 13, 1, 16)}\n",
            "{'ID': 16, 'TAG': ' AB DD 75 22', 'Produto': 'Pizza', 'Horario': datetime.datetime(2020, 9, 20, 13, 1, 33)}\n",
            "{'ID': 17, 'TAG': ' AB DD 75 22', 'Produto': 'Tradicional', 'Horario': datetime.datetime(2020, 9, 20, 13, 1, 46)}\n",
            "{'ID': 18, 'TAG': ' 97 11 33 40', 'Produto': 'Queijo', 'Horario': datetime.datetime(2020, 9, 20, 13, 2, 1)}\n",
            "{'ID': 19, 'TAG': ' 97 11 33 40', 'Produto': 'Tradicional', 'Horario': datetime.datetime(2020, 9, 20, 13, 2, 19)}\n",
            "{'ID': 20, 'TAG': ' 97 11 33 40', 'Produto': 'Queijo', 'Horario': datetime.datetime(2020, 9, 20, 13, 2, 39)}\n",
            "{'ID': 21, 'TAG': ' AB DD 75 22', 'Produto': 'Queijo', 'Horario': datetime.datetime(2020, 9, 20, 13, 42, 52)}\n",
            "{'ID': 22, 'TAG': ' 97 11 33 40', 'Produto': 'Pizza', 'Horario': datetime.datetime(2020, 9, 20, 13, 43, 42)}\n",
            "{'ID': 23, 'TAG': ' 97 11 33 40', 'Produto': 'Queijo', 'Horario': datetime.datetime(2020, 9, 20, 13, 44, 23)}\n",
            "{'ID': 24, 'TAG': ' AB DD 75 22', 'Produto': 'Tradicional', 'Horario': datetime.datetime(2020, 9, 20, 13, 46, 59)}\n",
            "{'ID': 25, 'TAG': ' 97 11 33 40', 'Produto': 'Queijo', 'Horario': datetime.datetime(2020, 9, 20, 13, 47, 13)}\n",
            "{'ID': 26, 'TAG': ' AB DD 75 22', 'Produto': 'Pizza', 'Horario': datetime.datetime(2020, 9, 20, 13, 47, 29)}\n"
          ],
          "name": "stdout"
        }
      ]
    },
    {
      "cell_type": "code",
      "metadata": {
        "id": "k2Q4tccxA0s7",
        "outputId": "312ac89e-d0a8-448e-de6c-1a23fe14bc7a",
        "colab": {
          "base_uri": "https://localhost:8080/",
          "height": 85
        }
      },
      "source": [
        "dados[5]"
      ],
      "execution_count": null,
      "outputs": [
        {
          "output_type": "execute_result",
          "data": {
            "text/plain": [
              "{'Horario': datetime.datetime(2020, 9, 19, 15, 7, 17),\n",
              " 'ID': 6,\n",
              " 'Produto': 'Queijo',\n",
              " 'TAG': ' 97 11 33 40'}"
            ]
          },
          "metadata": {
            "tags": []
          },
          "execution_count": 21
        }
      ]
    },
    {
      "cell_type": "code",
      "metadata": {
        "id": "tliilVjhA9iF",
        "outputId": "d8b054af-96dd-4af6-d0f2-b4fe60fecc86",
        "colab": {
          "base_uri": "https://localhost:8080/",
          "height": 493
        }
      },
      "source": [
        "#analise de dados\n",
        "import pandas as pd\n",
        "\n",
        "#DataFrame usado para mais de um item (lista os dados com identificação de cada coluna)\n",
        "tabela1 = pd.DataFrame(dados)\n",
        "print(type(tabela1))\n",
        "print(tabela1)"
      ],
      "execution_count": null,
      "outputs": [
        {
          "output_type": "stream",
          "text": [
            "<class 'pandas.core.frame.DataFrame'>\n",
            "    ID           TAG      Produto             Horario\n",
            "0    1   AB DD 75 22       Queijo 2020-09-19 15:04:34\n",
            "1    2   97 11 33 40  Tradicional 2020-09-19 15:04:58\n",
            "2    3   97 11 33 40       Queijo 2020-09-19 15:05:45\n",
            "3    4   AB DD 75 22        Pizza 2020-09-19 15:06:12\n",
            "4    5   97 11 33 40  Tradicional 2020-09-19 15:06:51\n",
            "5    6   97 11 33 40       Queijo 2020-09-19 15:07:17\n",
            "6    7   AB DD 75 22        Pizza 2020-09-19 15:09:37\n",
            "7    8   97 11 33 40  Tradicional 2020-09-19 15:10:16\n",
            "8    9   97 11 33 40  Tradicional 2020-09-20 12:27:44\n",
            "9   10   AB DD 75 22        Pizza 2020-09-20 12:28:09\n",
            "10  11   AB DD 75 22  Tradicional 2020-09-20 12:28:39\n",
            "11  12   AB DD 75 22       Queijo 2020-09-20 12:29:12\n",
            "12  13   97 11 33 40       Queijo 2020-09-20 12:30:21\n",
            "13  14   AB DD 75 22       Queijo 2020-09-20 12:31:02\n",
            "14  15   97 11 33 40       Queijo 2020-09-20 13:01:16\n",
            "15  16   AB DD 75 22        Pizza 2020-09-20 13:01:33\n",
            "16  17   AB DD 75 22  Tradicional 2020-09-20 13:01:46\n",
            "17  18   97 11 33 40       Queijo 2020-09-20 13:02:01\n",
            "18  19   97 11 33 40  Tradicional 2020-09-20 13:02:19\n",
            "19  20   97 11 33 40       Queijo 2020-09-20 13:02:39\n",
            "20  21   AB DD 75 22       Queijo 2020-09-20 13:42:52\n",
            "21  22   97 11 33 40        Pizza 2020-09-20 13:43:42\n",
            "22  23   97 11 33 40       Queijo 2020-09-20 13:44:23\n",
            "23  24   AB DD 75 22  Tradicional 2020-09-20 13:46:59\n",
            "24  25   97 11 33 40       Queijo 2020-09-20 13:47:13\n",
            "25  26   AB DD 75 22        Pizza 2020-09-20 13:47:29\n"
          ],
          "name": "stdout"
        }
      ]
    },
    {
      "cell_type": "code",
      "metadata": {
        "id": "sH5CyS4EBqES",
        "outputId": "db23f11c-f6ef-4b7e-8ceb-ca0285a8edf8",
        "colab": {
          "base_uri": "https://localhost:8080/",
          "height": 204
        }
      },
      "source": [
        "tabela1.head()"
      ],
      "execution_count": null,
      "outputs": [
        {
          "output_type": "execute_result",
          "data": {
            "text/html": [
              "<div>\n",
              "<style scoped>\n",
              "    .dataframe tbody tr th:only-of-type {\n",
              "        vertical-align: middle;\n",
              "    }\n",
              "\n",
              "    .dataframe tbody tr th {\n",
              "        vertical-align: top;\n",
              "    }\n",
              "\n",
              "    .dataframe thead th {\n",
              "        text-align: right;\n",
              "    }\n",
              "</style>\n",
              "<table border=\"1\" class=\"dataframe\">\n",
              "  <thead>\n",
              "    <tr style=\"text-align: right;\">\n",
              "      <th></th>\n",
              "      <th>ID</th>\n",
              "      <th>TAG</th>\n",
              "      <th>Produto</th>\n",
              "      <th>Horario</th>\n",
              "    </tr>\n",
              "  </thead>\n",
              "  <tbody>\n",
              "    <tr>\n",
              "      <th>0</th>\n",
              "      <td>1</td>\n",
              "      <td>AB DD 75 22</td>\n",
              "      <td>Queijo</td>\n",
              "      <td>2020-09-19 15:04:34</td>\n",
              "    </tr>\n",
              "    <tr>\n",
              "      <th>1</th>\n",
              "      <td>2</td>\n",
              "      <td>97 11 33 40</td>\n",
              "      <td>Tradicional</td>\n",
              "      <td>2020-09-19 15:04:58</td>\n",
              "    </tr>\n",
              "    <tr>\n",
              "      <th>2</th>\n",
              "      <td>3</td>\n",
              "      <td>97 11 33 40</td>\n",
              "      <td>Queijo</td>\n",
              "      <td>2020-09-19 15:05:45</td>\n",
              "    </tr>\n",
              "    <tr>\n",
              "      <th>3</th>\n",
              "      <td>4</td>\n",
              "      <td>AB DD 75 22</td>\n",
              "      <td>Pizza</td>\n",
              "      <td>2020-09-19 15:06:12</td>\n",
              "    </tr>\n",
              "    <tr>\n",
              "      <th>4</th>\n",
              "      <td>5</td>\n",
              "      <td>97 11 33 40</td>\n",
              "      <td>Tradicional</td>\n",
              "      <td>2020-09-19 15:06:51</td>\n",
              "    </tr>\n",
              "  </tbody>\n",
              "</table>\n",
              "</div>"
            ],
            "text/plain": [
              "   ID           TAG      Produto             Horario\n",
              "0   1   AB DD 75 22       Queijo 2020-09-19 15:04:34\n",
              "1   2   97 11 33 40  Tradicional 2020-09-19 15:04:58\n",
              "2   3   97 11 33 40       Queijo 2020-09-19 15:05:45\n",
              "3   4   AB DD 75 22        Pizza 2020-09-19 15:06:12\n",
              "4   5   97 11 33 40  Tradicional 2020-09-19 15:06:51"
            ]
          },
          "metadata": {
            "tags": []
          },
          "execution_count": 23
        }
      ]
    },
    {
      "cell_type": "code",
      "metadata": {
        "id": "N9kj8bQ0CGcx",
        "outputId": "e30bc43f-458e-4983-f4de-4af987b67222",
        "colab": {
          "base_uri": "https://localhost:8080/",
          "height": 476
        }
      },
      "source": [
        "#mais usado para uma unica informação na tabela (lista os dados com a identifação das colunas na mesma linha)\n",
        "serie1 = pd.Series(dados)\n",
        "print(serie1)"
      ],
      "execution_count": null,
      "outputs": [
        {
          "output_type": "stream",
          "text": [
            "0     {'ID': 1, 'TAG': ' AB DD 75 22', 'Produto': 'Q...\n",
            "1     {'ID': 2, 'TAG': ' 97 11 33 40', 'Produto': 'T...\n",
            "2     {'ID': 3, 'TAG': ' 97 11 33 40', 'Produto': 'Q...\n",
            "3     {'ID': 4, 'TAG': ' AB DD 75 22', 'Produto': 'P...\n",
            "4     {'ID': 5, 'TAG': ' 97 11 33 40', 'Produto': 'T...\n",
            "5     {'ID': 6, 'TAG': ' 97 11 33 40', 'Produto': 'Q...\n",
            "6     {'ID': 7, 'TAG': ' AB DD 75 22', 'Produto': 'P...\n",
            "7     {'ID': 8, 'TAG': ' 97 11 33 40', 'Produto': 'T...\n",
            "8     {'ID': 9, 'TAG': ' 97 11 33 40', 'Produto': 'T...\n",
            "9     {'ID': 10, 'TAG': ' AB DD 75 22', 'Produto': '...\n",
            "10    {'ID': 11, 'TAG': ' AB DD 75 22', 'Produto': '...\n",
            "11    {'ID': 12, 'TAG': ' AB DD 75 22', 'Produto': '...\n",
            "12    {'ID': 13, 'TAG': ' 97 11 33 40', 'Produto': '...\n",
            "13    {'ID': 14, 'TAG': ' AB DD 75 22', 'Produto': '...\n",
            "14    {'ID': 15, 'TAG': ' 97 11 33 40', 'Produto': '...\n",
            "15    {'ID': 16, 'TAG': ' AB DD 75 22', 'Produto': '...\n",
            "16    {'ID': 17, 'TAG': ' AB DD 75 22', 'Produto': '...\n",
            "17    {'ID': 18, 'TAG': ' 97 11 33 40', 'Produto': '...\n",
            "18    {'ID': 19, 'TAG': ' 97 11 33 40', 'Produto': '...\n",
            "19    {'ID': 20, 'TAG': ' 97 11 33 40', 'Produto': '...\n",
            "20    {'ID': 21, 'TAG': ' AB DD 75 22', 'Produto': '...\n",
            "21    {'ID': 22, 'TAG': ' 97 11 33 40', 'Produto': '...\n",
            "22    {'ID': 23, 'TAG': ' 97 11 33 40', 'Produto': '...\n",
            "23    {'ID': 24, 'TAG': ' AB DD 75 22', 'Produto': '...\n",
            "24    {'ID': 25, 'TAG': ' 97 11 33 40', 'Produto': '...\n",
            "25    {'ID': 26, 'TAG': ' AB DD 75 22', 'Produto': '...\n",
            "dtype: object\n"
          ],
          "name": "stdout"
        }
      ]
    },
    {
      "cell_type": "code",
      "metadata": {
        "id": "4MBtYrDyDGDW",
        "outputId": "aaf53af2-5f9d-4007-97bd-f0a8489c3b5c",
        "colab": {
          "base_uri": "https://localhost:8080/",
          "height": 119
        }
      },
      "source": [
        "#5 primeiros dados\n",
        "serie1.head()"
      ],
      "execution_count": null,
      "outputs": [
        {
          "output_type": "execute_result",
          "data": {
            "text/plain": [
              "0    {'ID': 1, 'TAG': ' AB DD 75 22', 'Produto': 'Q...\n",
              "1    {'ID': 2, 'TAG': ' 97 11 33 40', 'Produto': 'T...\n",
              "2    {'ID': 3, 'TAG': ' 97 11 33 40', 'Produto': 'Q...\n",
              "3    {'ID': 4, 'TAG': ' AB DD 75 22', 'Produto': 'P...\n",
              "4    {'ID': 5, 'TAG': ' 97 11 33 40', 'Produto': 'T...\n",
              "dtype: object"
            ]
          },
          "metadata": {
            "tags": []
          },
          "execution_count": 25
        }
      ]
    },
    {
      "cell_type": "code",
      "metadata": {
        "id": "bYr1MFC6T1M6",
        "outputId": "30bdca2c-b034-422c-9fe5-ab9f5f857207",
        "colab": {
          "base_uri": "https://localhost:8080/",
          "height": 476
        }
      },
      "source": [
        "tabela1['TAG']"
      ],
      "execution_count": null,
      "outputs": [
        {
          "output_type": "execute_result",
          "data": {
            "text/plain": [
              "0      AB DD 75 22\n",
              "1      97 11 33 40\n",
              "2      97 11 33 40\n",
              "3      AB DD 75 22\n",
              "4      97 11 33 40\n",
              "5      97 11 33 40\n",
              "6      AB DD 75 22\n",
              "7      97 11 33 40\n",
              "8      97 11 33 40\n",
              "9      AB DD 75 22\n",
              "10     AB DD 75 22\n",
              "11     AB DD 75 22\n",
              "12     97 11 33 40\n",
              "13     AB DD 75 22\n",
              "14     97 11 33 40\n",
              "15     AB DD 75 22\n",
              "16     AB DD 75 22\n",
              "17     97 11 33 40\n",
              "18     97 11 33 40\n",
              "19     97 11 33 40\n",
              "20     AB DD 75 22\n",
              "21     97 11 33 40\n",
              "22     97 11 33 40\n",
              "23     AB DD 75 22\n",
              "24     97 11 33 40\n",
              "25     AB DD 75 22\n",
              "Name: TAG, dtype: object"
            ]
          },
          "metadata": {
            "tags": []
          },
          "execution_count": 26
        }
      ]
    },
    {
      "cell_type": "code",
      "metadata": {
        "id": "Ai8iEUIjDUuh",
        "outputId": "f9bf7772-4297-444f-bf2f-53e791777e38",
        "colab": {
          "base_uri": "https://localhost:8080/",
          "height": 493
        }
      },
      "source": [
        "print(type(tabela1['Produto']))\n",
        "tabela1['Produto']"
      ],
      "execution_count": null,
      "outputs": [
        {
          "output_type": "stream",
          "text": [
            "<class 'pandas.core.series.Series'>\n"
          ],
          "name": "stdout"
        },
        {
          "output_type": "execute_result",
          "data": {
            "text/plain": [
              "0          Queijo\n",
              "1     Tradicional\n",
              "2          Queijo\n",
              "3           Pizza\n",
              "4     Tradicional\n",
              "5          Queijo\n",
              "6           Pizza\n",
              "7     Tradicional\n",
              "8     Tradicional\n",
              "9           Pizza\n",
              "10    Tradicional\n",
              "11         Queijo\n",
              "12         Queijo\n",
              "13         Queijo\n",
              "14         Queijo\n",
              "15          Pizza\n",
              "16    Tradicional\n",
              "17         Queijo\n",
              "18    Tradicional\n",
              "19         Queijo\n",
              "20         Queijo\n",
              "21          Pizza\n",
              "22         Queijo\n",
              "23    Tradicional\n",
              "24         Queijo\n",
              "25          Pizza\n",
              "Name: Produto, dtype: object"
            ]
          },
          "metadata": {
            "tags": []
          },
          "execution_count": 27
        }
      ]
    },
    {
      "cell_type": "code",
      "metadata": {
        "id": "DlrT5Odxw_m1",
        "outputId": "94b5f579-f893-4821-cb6f-581819a19bcc",
        "colab": {
          "base_uri": "https://localhost:8080/",
          "height": 68
        }
      },
      "source": [
        "#separando os produtos conforme o sabor;\n",
        "tradicional=[]\n",
        "queijo=[]\n",
        "pizza=[]\n",
        "\n",
        "for e in tabela1['Produto']:\n",
        "  if e == 'Queijo':\n",
        "    sabor_q = 'Queijo'\n",
        "    queijo.append(sabor_q)\n",
        "  \n",
        "  if e == 'Tradicional':\n",
        "    sabor_t = 'Tradicional'\n",
        "    tradicional.append(sabor_t)  \n",
        "  \n",
        "  if e == 'Pizza':\n",
        "    sabor_p = 'Pizza'\n",
        "    pizza.append(sabor_p)\n",
        "\n",
        "\n",
        "print(queijo)\n",
        "print(pizza)\n",
        "print(tradicional)"
      ],
      "execution_count": null,
      "outputs": [
        {
          "output_type": "stream",
          "text": [
            "['Queijo', 'Queijo', 'Queijo', 'Queijo', 'Queijo', 'Queijo', 'Queijo', 'Queijo', 'Queijo', 'Queijo', 'Queijo', 'Queijo']\n",
            "['Pizza', 'Pizza', 'Pizza', 'Pizza', 'Pizza', 'Pizza']\n",
            "['Tradicional', 'Tradicional', 'Tradicional', 'Tradicional', 'Tradicional', 'Tradicional', 'Tradicional', 'Tradicional']\n"
          ],
          "name": "stdout"
        }
      ]
    },
    {
      "cell_type": "code",
      "metadata": {
        "id": "b7D1pG3cZpvZ",
        "outputId": "89ed5d04-bfbc-49e7-a9c7-b84d7232e4c6",
        "colab": {
          "base_uri": "https://localhost:8080/",
          "height": 68
        }
      },
      "source": [
        "import random\n",
        "import matplotlib.pyplot as plt\n",
        "\n",
        "# criando matriz usando a biblioteca numpy\n",
        "club_queijos = np.array(len(queijo))\n",
        "print('A quantidade de clube social sabor Queijo vendida é: %d' %club_queijos)\n",
        "\n",
        "club_tradicionais = np.array(len(tradicional))\n",
        "print('A quantidade de clube social sabor Tradicional vendida é: %d' %club_tradicionais)\n",
        "\n",
        "club_pizzas = np.array(len(pizza))\n",
        "print('A quantidade de clube social sabor Pizza vendida é: %d' %club_pizzas)"
      ],
      "execution_count": null,
      "outputs": [
        {
          "output_type": "stream",
          "text": [
            "A quantidade de clube social sabor Queijo vendida é: 12\n",
            "A quantidade de clube social sabor Tradicional vendida é: 8\n",
            "A quantidade de clube social sabor Pizza vendida é: 6\n"
          ],
          "name": "stdout"
        }
      ]
    },
    {
      "cell_type": "code",
      "metadata": {
        "id": "IvF2XRbLou25",
        "outputId": "b6e1588c-38b6-4e2e-ba16-f3d5d2ec0832",
        "colab": {
          "base_uri": "https://localhost:8080/",
          "height": 34
        }
      },
      "source": [
        "total_vendas = 'total'\n",
        "soma = (club_pizzas + club_tradicionais + club_queijos)\n",
        "print('A venda total foi de %d Clubes sociais' %soma)"
      ],
      "execution_count": null,
      "outputs": [
        {
          "output_type": "stream",
          "text": [
            "A venda total foi de 26 Clubes sociais\n"
          ],
          "name": "stdout"
        }
      ]
    },
    {
      "cell_type": "code",
      "metadata": {
        "id": "KL98dhoFr8KS",
        "outputId": "57c85b2b-997e-4fe8-bfb3-3926d27e8c5d",
        "colab": {
          "base_uri": "https://localhost:8080/",
          "height": 281
        }
      },
      "source": [
        "#adicionando em um array as vendas de cada sabor\n",
        "somas = [(club_pizzas),(club_tradicionais), (club_queijos)]\n",
        "soma = np.array(somas)\n",
        "mais_vendido = (soma.max())\n",
        "menos_vendido = (soma.min())\n",
        "plt.bar(pizza, menos_vendido, label = 'barras1', color = 'black')\n",
        "plt.bar(queijo, mais_vendido, label = 'barra2', color = 'red')\n",
        "plt.title('Sabor menos vendido x mais vendido')\n",
        "plt.savefig('Sabor menos vendido x mais vendido.png')"
      ],
      "execution_count": null,
      "outputs": [
        {
          "output_type": "display_data",
          "data": {
            "image/png": "[encoded data removed]",
            "text/plain": [
              "<Figure size 432x288 with 1 Axes>"
            ]
          },
          "metadata": {
            "tags": [],
            "needs_background": "light"
          }
        }
      ]
    },
    {
      "cell_type": "code",
      "metadata": {
        "id": "0sZ2agRHhEV7",
        "outputId": "1b13cb95-4a4e-4c42-db66-3ed26fb5c202",
        "colab": {
          "base_uri": "https://localhost:8080/",
          "height": 298
        }
      },
      "source": [
        "total_vendas = 'total'\n",
        "soma = (club_pizzas + club_tradicionais + club_queijos)\n",
        "print('A venda total foi de %d Clubes sociais' %soma)\n",
        "plt.bar(sabor_q, club_queijos, label = 'barra1', color = 'gray')\n",
        "plt.bar(sabor_p, club_pizzas, label = 'barras3', color = 'pink')\n",
        "plt.bar(sabor_t, club_tradicionais, label = 'barras4', color = 'brown')\n",
        "plt.bar(total_vendas, soma, label = 'barrs5', color = 'black')\n",
        "plt.title('Histórico de venda')\n",
        "plt.savefig('Histórico de venda.png')"
      ],
      "execution_count": null,
      "outputs": [
        {
          "output_type": "stream",
          "text": [
            "A venda total foi de 26 Clubes sociais\n"
          ],
          "name": "stdout"
        },
        {
          "output_type": "display_data",
          "data": {
            "image/png": "[encoded data removed]",
            "text/plain": [
              "<Figure size 432x288 with 1 Axes>"
            ]
          },
          "metadata": {
            "tags": [],
            "needs_background": "light"
          }
        }
      ]
    },
    {
      "cell_type": "code",
      "metadata": {
        "id": "YfTfl7w8oBFf",
        "outputId": "bb3945d7-8800-4938-b61f-e130d7576843",
        "colab": {
          "base_uri": "https://localhost:8080/",
          "height": 281
        }
      },
      "source": [
        "plt.bar(sabor_q, club_queijos, label = 'barra1', color = 'gray')\n",
        "plt.bar(sabor_p, club_pizzas, label = 'barras3', color = 'pink')\n",
        "plt.bar(sabor_t, club_tradicionais, label = 'barras4', color = 'brown')\n",
        "plt.title('Sabores Vendidos')\n",
        "plt.savefig('Sabores Vendidos.png')"
      ],
      "execution_count": null,
      "outputs": [
        {
          "output_type": "display_data",
          "data": {
            "image/png": "[encoded data removed]",
            "text/plain": [
              "<Figure size 432x288 with 1 Axes>"
            ]
          },
          "metadata": {
            "tags": [],
            "needs_background": "light"
          }
        }
      ]
    },
    {
      "cell_type": "code",
      "metadata": {
        "id": "LJgLQNaxohHQ",
        "outputId": "c5d86764-f4ed-416a-832a-5a7aa567d47b",
        "colab": {
          "base_uri": "https://localhost:8080/",
          "height": 350
        }
      },
      "source": [
        "#grafico tipo pizza\n",
        "fatias = [club_queijos, club_pizzas, club_tradicionais]\n",
        "materias = [sabor_q, sabor_p, sabor_t]\n",
        "colunas = ['c','m','r']\n",
        "\n",
        "plt.pie(fatias, labels = materias, colors = colunas, startangle = 90, shadow = False, explode = (0,0,0))"
      ],
      "execution_count": null,
      "outputs": [
        {
          "output_type": "execute_result",
          "data": {
            "text/plain": [
              "([<matplotlib.patches.Wedge at 0x7f3627dd6588>,\n",
              "  <matplotlib.patches.Wedge at 0x7f3627dd6ac8>,\n",
              "  <matplotlib.patches.Wedge at 0x7f3627dd6fd0>],\n",
              " [Text(-1.0919797624627827, 0.13259034041635373, 'Queijo'),\n",
              "  Text(0.5111955067851861, -0.9740016190143819, 'Pizza'),\n",
              "  Text(0.9052822164801492, 0.6248712735634344, 'Tradicional')])"
            ]
          },
          "metadata": {
            "tags": []
          },
          "execution_count": 40
        },
        {
          "output_type": "display_data",
          "data": {
            "image/png": "[encoded data removed]",
            "text/plain": [
              "<Figure size 432x288 with 1 Axes>"
            ]
          },
          "metadata": {
            "tags": []
          }
        }
      ]
    },
    {
      "cell_type": "code",
      "metadata": {
        "id": "Gxgzet2lDssx",
        "outputId": "ac7d371b-5795-4f5d-b0fa-77e64bb5817c",
        "colab": {
          "base_uri": "https://localhost:8080/",
          "height": 476
        }
      },
      "source": [
        "tabela1['Horario']"
      ],
      "execution_count": null,
      "outputs": [
        {
          "output_type": "execute_result",
          "data": {
            "text/plain": [
              "0    2020-09-19 15:04:34\n",
              "1    2020-09-19 15:04:58\n",
              "2    2020-09-19 15:05:45\n",
              "3    2020-09-19 15:06:12\n",
              "4    2020-09-19 15:06:51\n",
              "5    2020-09-19 15:07:17\n",
              "6    2020-09-19 15:09:37\n",
              "7    2020-09-19 15:10:16\n",
              "8    2020-09-20 12:27:44\n",
              "9    2020-09-20 12:28:09\n",
              "10   2020-09-20 12:28:39\n",
              "11   2020-09-20 12:29:12\n",
              "12   2020-09-20 12:30:21\n",
              "13   2020-09-20 12:31:02\n",
              "14   2020-09-20 13:01:16\n",
              "15   2020-09-20 13:01:33\n",
              "16   2020-09-20 13:01:46\n",
              "17   2020-09-20 13:02:01\n",
              "18   2020-09-20 13:02:19\n",
              "19   2020-09-20 13:02:39\n",
              "20   2020-09-20 13:42:52\n",
              "21   2020-09-20 13:43:42\n",
              "22   2020-09-20 13:44:23\n",
              "23   2020-09-20 13:46:59\n",
              "24   2020-09-20 13:47:13\n",
              "25   2020-09-20 13:47:29\n",
              "Name: Horario, dtype: datetime64[ns]"
            ]
          },
          "metadata": {
            "tags": []
          },
          "execution_count": 41
        }
      ]
    },
    {
      "cell_type": "code",
      "metadata": {
        "id": "tn3w-WGjD_PQ",
        "outputId": "6aa7c7f5-c1f3-4350-ebed-fffe748e7d71",
        "colab": {
          "base_uri": "https://localhost:8080/",
          "height": 34
        }
      },
      "source": [
        "#informa como está a organização dos dados\n",
        "tabela1.index"
      ],
      "execution_count": null,
      "outputs": [
        {
          "output_type": "execute_result",
          "data": {
            "text/plain": [
              "RangeIndex(start=0, stop=26, step=1)"
            ]
          },
          "metadata": {
            "tags": []
          },
          "execution_count": 42
        }
      ]
    },
    {
      "cell_type": "code",
      "metadata": {
        "id": "hn31Lf1EELKq",
        "outputId": "2f2cccdb-2e21-4b96-feb4-128fd0613ddc",
        "colab": {
          "base_uri": "https://localhost:8080/",
          "height": 34
        }
      },
      "source": [
        "tabela1.columns"
      ],
      "execution_count": null,
      "outputs": [
        {
          "output_type": "execute_result",
          "data": {
            "text/plain": [
              "Index(['ID', 'TAG', 'Produto', 'Horario'], dtype='object')"
            ]
          },
          "metadata": {
            "tags": []
          },
          "execution_count": 43
        }
      ]
    },
    {
      "cell_type": "code",
      "metadata": {
        "id": "4MNSlI5nEWhf",
        "outputId": "71dc0c70-796e-4a95-822b-cd9ff317cedd",
        "colab": {
          "base_uri": "https://localhost:8080/",
          "height": 102
        }
      },
      "source": [
        "tabela1.min()"
      ],
      "execution_count": null,
      "outputs": [
        {
          "output_type": "execute_result",
          "data": {
            "text/plain": [
              "ID                           1\n",
              "TAG                97 11 33 40\n",
              "Produto                  Pizza\n",
              "Horario    2020-09-19 15:04:34\n",
              "dtype: object"
            ]
          },
          "metadata": {
            "tags": []
          },
          "execution_count": 44
        }
      ]
    },
    {
      "cell_type": "code",
      "metadata": {
        "id": "VWrERF9mE3NM",
        "outputId": "1562d951-ed74-456f-c282-d3cd016553d4",
        "colab": {
          "base_uri": "https://localhost:8080/",
          "height": 102
        }
      },
      "source": [
        "tabela1.max()"
      ],
      "execution_count": null,
      "outputs": [
        {
          "output_type": "execute_result",
          "data": {
            "text/plain": [
              "ID                          26\n",
              "TAG                AB DD 75 22\n",
              "Produto            Tradicional\n",
              "Horario    2020-09-20 13:47:29\n",
              "dtype: object"
            ]
          },
          "metadata": {
            "tags": []
          },
          "execution_count": 45
        }
      ]
    },
    {
      "cell_type": "code",
      "metadata": {
        "id": "Bc-B0-_AHTt3",
        "outputId": "f5f184e0-1cce-4ea1-af39-747f1d51ff86",
        "colab": {
          "base_uri": "https://localhost:8080/",
          "height": 281
        }
      },
      "source": [
        "sequencia = tabela1['ID']\n",
        "sabor = tabela1['Produto']\n",
        "line, =plt.plot(sequencia, sabor, color = \"red\")\n",
        "plt.title(\"Sequência de Venda\")\n",
        "plt.savefig(\"Sequência de Venda.png\")\n",
        "plt.show()\n"
      ],
      "execution_count": null,
      "outputs": [
        {
          "output_type": "display_data",
          "data": {
            "image/png": "[encoded data removed]",
            "text/plain": [
              "<Figure size 432x288 with 1 Axes>"
            ]
          },
          "metadata": {
            "tags": [],
            "needs_background": "light"
          }
        }
      ]
    },
    {
      "cell_type": "code",
      "metadata": {
        "id": "PjrSjt9bAa5d",
        "outputId": "347f60fa-1f1a-4794-fa4e-0de79503e3f5",
        "colab": {
          "base_uri": "https://localhost:8080/",
          "height": 231
        }
      },
      "source": [
        "comprador = tabela1['TAG']\n",
        "comp_ = np.array(comprador)\n",
        "comp_.loc[1,0]\n",
        "\n",
        "\n",
        "#sabores = tabela1['Horario']\n",
        "#line, =plt.plot(comprador, sabores, color = \"red\")\n",
        "#plt.title(\"Compradores x Produto\")\n",
        "#plt.savefig(\"Sequência de Venda.png\")\n",
        "#plt.show()"
      ],
      "execution_count": null,
      "outputs": [
        {
          "output_type": "error",
          "ename": "AttributeError",
          "evalue": "ignored",
          "traceback": [
            "\u001b[0;31m---------------------------------------------------------------------------\u001b[0m",
            "\u001b[0;31mAttributeError\u001b[0m                            Traceback (most recent call last)",
            "\u001b[0;32m<ipython-input-67-85a1378ea013>\u001b[0m in \u001b[0;36m<module>\u001b[0;34m()\u001b[0m\n\u001b[1;32m      1\u001b[0m \u001b[0mcomprador\u001b[0m \u001b[0;34m=\u001b[0m \u001b[0mtabela1\u001b[0m\u001b[0;34m[\u001b[0m\u001b[0;34m'TAG'\u001b[0m\u001b[0;34m]\u001b[0m\u001b[0;34m\u001b[0m\u001b[0;34m\u001b[0m\u001b[0m\n\u001b[1;32m      2\u001b[0m \u001b[0mcomp_\u001b[0m \u001b[0;34m=\u001b[0m \u001b[0mnp\u001b[0m\u001b[0;34m.\u001b[0m\u001b[0marray\u001b[0m\u001b[0;34m(\u001b[0m\u001b[0mcomprador\u001b[0m\u001b[0;34m)\u001b[0m\u001b[0;34m\u001b[0m\u001b[0;34m\u001b[0m\u001b[0m\n\u001b[0;32m----> 3\u001b[0;31m \u001b[0mcomp_\u001b[0m\u001b[0;34m.\u001b[0m\u001b[0mloc\u001b[0m\u001b[0;34m[\u001b[0m\u001b[0;36m1\u001b[0m\u001b[0;34m,\u001b[0m\u001b[0;36m0\u001b[0m\u001b[0;34m]\u001b[0m\u001b[0;34m\u001b[0m\u001b[0;34m\u001b[0m\u001b[0m\n\u001b[0m\u001b[1;32m      4\u001b[0m \u001b[0;34m\u001b[0m\u001b[0m\n\u001b[1;32m      5\u001b[0m \u001b[0;34m\u001b[0m\u001b[0m\n",
            "\u001b[0;31mAttributeError\u001b[0m: 'numpy.ndarray' object has no attribute 'loc'"
          ]
        }
      ]
    },
    {
      "cell_type": "code",
      "metadata": {
        "id": "g9DTQYJaqL_-",
        "outputId": "8095e7fc-cbb4-4603-acb9-6001b32ee5dd",
        "colab": {
          "base_uri": "https://localhost:8080/",
          "height": 298
        }
      },
      "source": [
        "plt.bar(sabor_q, club_queijos, label = 'barra1', color = 'gray')\n",
        "plt.bar(sabor_p, club_pizzas, label = 'barras3', color = 'pink')\n",
        "plt.bar(sabor_t, club_tradicionais, label = 'barras4', color = 'brown')\n",
        "\n",
        "plt.title('Sabores teste')\n",
        "#plt.savefig('Sabores Vendidos.png')"
      ],
      "execution_count": null,
      "outputs": [
        {
          "output_type": "execute_result",
          "data": {
            "text/plain": [
              "Text(0.5, 1.0, 'Sabores teste')"
            ]
          },
          "metadata": {
            "tags": []
          },
          "execution_count": 48
        },
        {
          "output_type": "display_data",
          "data": {
            "image/png": "[encoded data removed]",
            "text/plain": [
              "<Figure size 432x288 with 1 Axes>"
            ]
          },
          "metadata": {
            "tags": [],
            "needs_background": "light"
          }
        }
      ]
    }
  ]
}